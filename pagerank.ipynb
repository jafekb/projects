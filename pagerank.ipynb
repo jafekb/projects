{
 "cells": [
  {
   "cell_type": "markdown",
   "metadata": {},
   "source": [
    "# PageRank Algorithm\n",
    "## Here we implement a (very) simple version of Google's PageRank Algorithm"
   ]
  },
  {
   "cell_type": "code",
   "execution_count": 10,
   "metadata": {
    "collapsed": true
   },
   "outputs": [],
   "source": [
    "#Import our libraries\n",
    "from __future__ import division\n",
    "import numpy as np\n",
    "import scipy as sp\n",
    "from scipy import sparse\n",
    "import numpy.linalg as la"
   ]
  },
  {
   "cell_type": "code",
   "execution_count": 11,
   "metadata": {
    "collapsed": true
   },
   "outputs": [],
   "source": [
    "def to_matrix(filename, n):\n",
    "    \"\"\"Return the nxn adjacency matrix described by datafile.\n",
    "\n",
    "    Parameters:\n",
    "        datafile (str): The name of a .txt file describing a directed graph.\n",
    "        Lines describing edges should have the form '<from node>\\t<to node>\\n'.\n",
    "        The file may also include comments.\n",
    "    n (int): The number of nodes in the graph described by datafile\n",
    "\n",
    "    Returns:\n",
    "        A SciPy sparse dok_matrix.\n",
    "    \"\"\"\n",
    "    A = np.zeros((n,n))\n",
    "    with open(filename, 'r') as myfile:\n",
    "        for line in myfile:\n",
    "            line = line.strip().split()\n",
    "            try:\n",
    "                A[int(line[0]),int(line[1])]=1\n",
    "            except:\n",
    "                continue\n",
    "    return sparse.dok_matrix(A)\n"
   ]
  },
  {
   "cell_type": "code",
   "execution_count": 12,
   "metadata": {
    "collapsed": true
   },
   "outputs": [],
   "source": [
    "def calculateK(A,N):\n",
    "    \"\"\"Compute the matrix K as described in the lab.\n",
    "\n",
    "    Parameters:\n",
    "        A (ndarray): adjacency matrix of an array\n",
    "        N (int): the datasize of the array\n",
    "\n",
    "    Returns:\n",
    "        K (ndarray)\n",
    "    \"\"\"\n",
    "    if type(A) == sparse.dok_matrix:\n",
    "        A = sparse.dok_matrix.toarray(A)\n",
    "    #Fix A so that any rows of all zeros become all ones\n",
    "    for i in xrange(len(A)):\n",
    "        if np.all(A[i]==0):\n",
    "            A[i]=1\n",
    "            \n",
    "    #Calculate D\n",
    "    D = np.diag([A.sum(1)[i] for i in xrange(len(A))])\n",
    "    #Return K\n",
    "    return la.inv(D).dot(A).T"
   ]
  },
  {
   "cell_type": "markdown",
   "metadata": {},
   "source": [
    "### First we sort them using an iterative method"
   ]
  },
  {
   "cell_type": "code",
   "execution_count": 13,
   "metadata": {
    "collapsed": true
   },
   "outputs": [],
   "source": [
    "\n",
    "def iter_solve(adj, N=None, d=.85, tol=1E-5):\n",
    "    \"\"\"Return the page ranks of the network described by 'adj'.\n",
    "    Iterate through the PageRank algorithm until the error is less than 'tol'.\n",
    "\n",
    "    Parameters:\n",
    "        adj (ndarray): The adjacency matrix of a directed graph.\n",
    "        N (int): Restrict the computation to the first 'N' nodes of the graph.\n",
    "            If N is None (default), use the entire matrix.\n",
    "        d (float): The damping factor, a float between 0 and 1.\n",
    "        tol (float): Stop iterating when the change in approximations to the\n",
    "            solution is less than 'tol'.\n",
    "\n",
    "    Returns:\n",
    "        The approximation to the steady state.\n",
    "    \"\"\"\n",
    "    if type(adj) == sparse.dok_matrix:\n",
    "        adj = sparse.dok_matrix.toarray(adj)\n",
    "    if N==None:\n",
    "        N = len(adj)\n",
    "\n",
    "    K = np.array(calculateK(adj[:N,:N], N))\n",
    "    pold = np.random.random(N)\n",
    "    pold /= la.norm(pold)\n",
    "    pnew = np.ones(N)\n",
    "    i=0\n",
    "    while la.norm(pnew - pold) > tol:\n",
    "        pnew, pold = d*K.dot(pold) + (1-d)/N * np.ones(N), pnew\n",
    "        #Iteration count\n",
    "        i+=1\n",
    "        if i > 500:\n",
    "            raise ValueError('Did not converge')\n",
    "    return pnew\n"
   ]
  },
  {
   "cell_type": "markdown",
   "metadata": {},
   "source": [
    "### We can solve the same problem using eigenvalues"
   ]
  },
  {
   "cell_type": "code",
   "execution_count": 14,
   "metadata": {
    "collapsed": true
   },
   "outputs": [],
   "source": [
    "def eig_solve(adj, N=None, d=.85):\n",
    "    \"\"\"Return the page ranks of the network described by 'adj'. Use SciPy's\n",
    "    eigenvalue solver to calculate the steady state of the PageRank algorithm\n",
    "\n",
    "    Parameters:\n",
    "        adj (ndarray): The adjacency matrix of a directed graph.\n",
    "        N (int): Restrict the computation to the first 'N' nodes of the graph.\n",
    "            If N is None (default), use the entire matrix.\n",
    "        d (float): The damping factor, a float between 0 and 1.\n",
    "        tol (float): Stop iterating when the change in approximations to the\n",
    "            solution is less than 'tol'.\n",
    "\n",
    "    Returns:\n",
    "        The approximation to the steady state.\n",
    "    \"\"\"\n",
    "    if type(adj) == sparse.dok_matrix:\n",
    "        adj = sparse.dok_matrix.toarray(adj)\n",
    "        \n",
    "    if N==None:\n",
    "        N = len(adj)\n",
    "\n",
    "    K = calculateK(adj[:N,:N], N)\n",
    "    E = np.ones((N,N))\n",
    "    B = d*K + (1-d)/N * E\n",
    "\n",
    "    eigvals = la.eig(B)[0]\n",
    "    one_eigval = list(eigvals).index(max(eigvals))\n",
    "    eigvecs = la.eig(B)[1]\n",
    "    return np.real(eigvecs[:,one_eigval]/np.sum(eigvecs[:,one_eigval]))\n"
   ]
  },
  {
   "cell_type": "markdown",
   "metadata": {},
   "source": [
    "### Now we'll use our iterative solver to organize some data about NCAA basketball teams in 2013, to rank them in order from best to worst."
   ]
  },
  {
   "cell_type": "code",
   "execution_count": 15,
   "metadata": {
    "collapsed": true
   },
   "outputs": [],
   "source": [
    "def team_rank(filename='ncaa2013.csv'):\n",
    "    \"\"\"Use iter_solve() to predict the rankings of the teams in the given\n",
    "    dataset of games. The dataset should have two columns, representing\n",
    "    winning and losing teams. Each row represents a game, with the winner on\n",
    "    the left, loser on the right. Parse this data to create the adjacency\n",
    "    matrix, and feed this into the solver to predict the team ranks.\n",
    "\n",
    "    Parameters:\n",
    "        filename (str): The name of the data file.\n",
    "    Returns:\n",
    "        ranks (list): The ranks of the teams from best to worst.\n",
    "        teams (list): The names of the teams, also from best to worst.\n",
    "    \"\"\"\n",
    "    all_teams=[]\n",
    "    matches=[]\n",
    "    #Get the data\n",
    "    with open(filename, 'r') as ncaafile:\n",
    "        ncaafile.readline() #reads and ignores the header line\n",
    "        for line in ncaafile:\n",
    "            team = line.strip().split(',') #split on commas\n",
    "            all_teams.append(team[0])\n",
    "            all_teams.append(team[1])\n",
    "            matches.append(team)\n",
    "\n",
    "    #Get the number of teams\n",
    "    unique_teams = list(set(all_teams))\n",
    "    team_count = len(unique_teams)\n",
    "\n",
    "    #Here we're going to use (1) unique team name indices and (2) the game information\n",
    "    # that we have, in order to make that adjacency matrix.\n",
    "    A = np.zeros((team_count, team_count))\n",
    "\n",
    "    for i in xrange(len(matches)):\n",
    "        n, m = unique_teams.index(matches[i][0]), unique_teams.index(matches[i][1])\n",
    "        A[m, n] = 1\n",
    "\n",
    "    N = len(A)\n",
    "    A1 = sparse.dok_matrix(A)\n",
    "    rankings = iter_solve(A1, d=.7)\n",
    "    teams = np.vstack((rankings, unique_teams)).T\n",
    "    return teams[teams[:,0].argsort()][:,0][::-1], teams[teams[:,0].argsort()][:,1][::-1]"
   ]
  },
  {
   "cell_type": "markdown",
   "metadata": {},
   "source": [
    "# The team_rank function in action"
   ]
  },
  {
   "cell_type": "code",
   "execution_count": 17,
   "metadata": {
    "collapsed": false
   },
   "outputs": [
    {
     "ename": "IOError",
     "evalue": "[Errno 2] No such file or directory: 'ncaa2013.csv'",
     "output_type": "error",
     "traceback": [
      "\u001b[0;31m---------------------------------------------------------------------------\u001b[0m",
      "\u001b[0;31mIOError\u001b[0m                                   Traceback (most recent call last)",
      "\u001b[0;32m<ipython-input-17-91bd5e90c32b>\u001b[0m in \u001b[0;36m<module>\u001b[0;34m()\u001b[0m\n\u001b[0;32m----> 1\u001b[0;31m \u001b[0;32mprint\u001b[0m \u001b[0mteam_rank\u001b[0m\u001b[0;34m(\u001b[0m\u001b[0;34m)\u001b[0m\u001b[0;34m\u001b[0m\u001b[0m\n\u001b[0m",
      "\u001b[0;32m<ipython-input-15-ee0cb57557d0>\u001b[0m in \u001b[0;36mteam_rank\u001b[0;34m(filename)\u001b[0m\n\u001b[1;32m     15\u001b[0m     \u001b[0mmatches\u001b[0m\u001b[0;34m=\u001b[0m\u001b[0;34m[\u001b[0m\u001b[0;34m]\u001b[0m\u001b[0;34m\u001b[0m\u001b[0m\n\u001b[1;32m     16\u001b[0m     \u001b[0;31m#Get the data\u001b[0m\u001b[0;34m\u001b[0m\u001b[0;34m\u001b[0m\u001b[0m\n\u001b[0;32m---> 17\u001b[0;31m     \u001b[0;32mwith\u001b[0m \u001b[0mopen\u001b[0m\u001b[0;34m(\u001b[0m\u001b[0mfilename\u001b[0m\u001b[0;34m,\u001b[0m \u001b[0;34m'r'\u001b[0m\u001b[0;34m)\u001b[0m \u001b[0;32mas\u001b[0m \u001b[0mncaafile\u001b[0m\u001b[0;34m:\u001b[0m\u001b[0;34m\u001b[0m\u001b[0m\n\u001b[0m\u001b[1;32m     18\u001b[0m         \u001b[0mncaafile\u001b[0m\u001b[0;34m.\u001b[0m\u001b[0mreadline\u001b[0m\u001b[0;34m(\u001b[0m\u001b[0;34m)\u001b[0m \u001b[0;31m#reads and ignores the header line\u001b[0m\u001b[0;34m\u001b[0m\u001b[0m\n\u001b[1;32m     19\u001b[0m         \u001b[0;32mfor\u001b[0m \u001b[0mline\u001b[0m \u001b[0;32min\u001b[0m \u001b[0mncaafile\u001b[0m\u001b[0;34m:\u001b[0m\u001b[0;34m\u001b[0m\u001b[0m\n",
      "\u001b[0;31mIOError\u001b[0m: [Errno 2] No such file or directory: 'ncaa2013.csv'"
     ]
    }
   ],
   "source": [
    "print team_rank()"
   ]
  },
  {
   "cell_type": "code",
   "execution_count": null,
   "metadata": {
    "collapsed": true
   },
   "outputs": [],
   "source": []
  }
 ],
 "metadata": {
  "anaconda-cloud": {},
  "kernelspec": {
   "display_name": "Python [Root]",
   "language": "python",
   "name": "Python [Root]"
  },
  "language_info": {
   "codemirror_mode": {
    "name": "ipython",
    "version": 2
   },
   "file_extension": ".py",
   "mimetype": "text/x-python",
   "name": "python",
   "nbconvert_exporter": "python",
   "pygments_lexer": "ipython2",
   "version": "2.7.12"
  }
 },
 "nbformat": 4,
 "nbformat_minor": 0
}
