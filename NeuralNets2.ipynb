{
 "cells": [
  {
   "cell_type": "markdown",
   "metadata": {},
   "source": [
    "# Neural Nets 2\n",
    "Ben Jafek  \n",
    "MATH 404  \n",
    "2/26/18"
   ]
  },
  {
   "cell_type": "code",
   "execution_count": 1,
   "metadata": {},
   "outputs": [
    {
     "name": "stderr",
     "output_type": "stream",
     "text": [
      "/usr/local/anaconda3/lib/python3.6/site-packages/h5py/__init__.py:34: FutureWarning: Conversion of the second argument of issubdtype from `float` to `np.floating` is deprecated. In future, it will be treated as `np.float64 == np.dtype(float).type`.\n",
      "  from ._conv import register_converters as _register_converters\n",
      "Using TensorFlow backend.\n"
     ]
    }
   ],
   "source": [
    "import time\n",
    "import numpy as np\n",
    "from matplotlib import pyplot as plt \n",
    "import os\n",
    "\n",
    "from keras.datasets import fashion_mnist as fmn\n",
    "from keras.models import Sequential\n",
    "from keras.layers import Dense, Activation\n",
    "from keras.utils import to_categorical"
   ]
  },
  {
   "cell_type": "markdown",
   "metadata": {},
   "source": [
    "# Problem 1\n",
    "Experiment with fully connected neural nets for classification of the Fashion-MNIST data: add at least two more layers, make all hidden layers at least 20 neurons wide, and try it with both ReLU and sigmoid activations.  Train for as many epochs as you need until the loss function (categorical cross entropy) stops improving--Keras's `callbacks.EarlyStopping` may be useful."
   ]
  },
  {
   "cell_type": "code",
   "execution_count": 2,
   "metadata": {},
   "outputs": [
    {
     "name": "stdout",
     "output_type": "stream",
     "text": [
      "Downloading data from http://fashion-mnist.s3-website.eu-central-1.amazonaws.com/train-labels-idx1-ubyte.gz\n",
      "32768/29515 [=================================] - 0s 5us/step\n",
      "Downloading data from http://fashion-mnist.s3-website.eu-central-1.amazonaws.com/train-images-idx3-ubyte.gz\n",
      "26427392/26421880 [==============================] - 20s 1us/step\n",
      "Downloading data from http://fashion-mnist.s3-website.eu-central-1.amazonaws.com/t10k-labels-idx1-ubyte.gz\n",
      "8192/5148 [===============================================] - 0s 0us/step\n",
      "Downloading data from http://fashion-mnist.s3-website.eu-central-1.amazonaws.com/t10k-images-idx3-ubyte.gz\n",
      "4423680/4422102 [==============================] - 8s 2us/step\n"
     ]
    }
   ],
   "source": [
    "(x_train, y_train), (x_test, y_test) = fmn.load_data()\n",
    "#Flatten the inputs to L*784 instead of L*28*28\n",
    "x_train = x_train.reshape(len(x_train), 28*28)\n",
    "x_test = x_test.reshape(len(x_test), 28*28)\n",
    "\n",
    "# Convert labels to categorical one-hot encoding\n",
    "one_hot_train_labels = to_categorical(y_train, num_classes=10)\n",
    "one_hot_test_labels = to_categorical(y_test, num_classes=10)"
   ]
  },
  {
   "cell_type": "code",
   "execution_count": null,
   "metadata": {},
   "outputs": [],
   "source": [
    "ACCS = []\n",
    "TIMES = []\n",
    "num_epochs = 30\n",
    "ovr_start = time.time()\n",
    "\n",
    "for act in ['relu', 'sigmoid']:\n",
    "    print (act)\n",
    "    \n",
    "    model = Sequential()\n",
    "    model.add(Dense(64, input_dim=784))\n",
    "    model.add(Activation(act))\n",
    "\n",
    "    model.add(Dense(32, input_dim=64))\n",
    "    model.add(Activation(act))\n",
    "\n",
    "    model.add(Dense(32, input_dim=32))\n",
    "    model.add(Activation(act))\n",
    "\n",
    "    model.add(Dense(16, input_dim=32))\n",
    "    model.add(Activation(act))\n",
    "\n",
    "    model.add(Dense(10, input_dim=16))\n",
    "    model.add(Activation('softmax'))\n",
    "\n",
    "    model.compile(optimizer='adam',\n",
    "                  loss='categorical_crossentropy',\n",
    "                  metrics=['accuracy'])\n",
    "    \n",
    "    # Train the model, iterating on the data in batches of 32 samples\n",
    "    start = time.time()\n",
    "    hist = model.fit(x_train, one_hot_train_labels, epochs=num_epochs, batch_size=32, verbose=0)\n",
    "    elapsed = time.time() - start\n",
    "    \n",
    "    #Now save it for future indulgence.\n",
    "    acc_arr = np.array(hist.history['acc']) \n",
    "    loss_arr = np.array(hist.history['loss'])\n",
    "    time_arr = np.array(elapsed)\n",
    "    np.save('NN2/{}_accs.npy'.format(act), acc_arr)\n",
    "    np.save('NN2/{}_time.npy'.format(act), time_arr)\n",
    "    np.save('NN2/{}_loss.npy'.format(act), loss_arr)\n",
    "    \n",
    "print ('TOTAL TIME ELAPSED: {:.3f}'.format(time.time() - ovr_start))\n"
   ]
  },
  {
   "cell_type": "code",
   "execution_count": 7,
   "metadata": {},
   "outputs": [],
   "source": [
    "#I did it this way because I left the computer running for a long time,\n",
    "# and wanted to make sure that I didn't lose the variables.\n",
    "relu_acc = np.load('NN2/relu_accs.npy')\n",
    "relu_loss = np.load('NN2/relu_loss.npy')\n",
    "sig_acc = np.load('NN2/sigmoid_accs.npy')\n",
    "sig_loss = np.load('NN2/sigmoid_loss.npy')"
   ]
  },
  {
   "cell_type": "code",
   "execution_count": 9,
   "metadata": {},
   "outputs": [
    {
     "data": {
      "image/png": "[encoded data removed]",
      "text/plain": [
       "<matplotlib.figure.Figure at 0x7f3826314be0>"
      ]
     },
     "metadata": {},
     "output_type": "display_data"
    }
   ],
   "source": [
    "plt.plot(relu_acc, label='ReLU')\n",
    "plt.plot(sig_acc, label='Sigmoid')\n",
    "plt.legend()\n",
    "plt.title('Accuracy')\n",
    "plt.show()"
   ]
  },
  {
   "cell_type": "code",
   "execution_count": 12,
   "metadata": {},
   "outputs": [
    {
     "data": {
      "image/png": "[encoded data removed]",
      "text/plain": [
       "<matplotlib.figure.Figure at 0x7f3824161080>"
      ]
     },
     "metadata": {},
     "output_type": "display_data"
    }
   ],
   "source": [
    "plt.plot(relu_loss, label='ReLU')\n",
    "plt.plot(sig_loss, label='Sigmoid')\n",
    "plt.legend()\n",
    "plt.title('Loss')\n",
    "plt.show()"
   ]
  },
  {
   "cell_type": "markdown",
   "metadata": {},
   "source": [
    "### Analysis\n",
    "As we can see, the sigmoid activation functions work much better than the ReLU functions. I think this is because the network is so shallow, the sigmoid function allows for more precision of numbers than the ReLU would, which gains its advantage on huge networks."
   ]
  },
  {
   "cell_type": "markdown",
   "metadata": {},
   "source": [
    "# Problem 2\n",
    "(On written homework)"
   ]
  },
  {
   "cell_type": "code",
   "execution_count": null,
   "metadata": {
    "collapsed": true
   },
   "outputs": [],
   "source": []
  }
 ],
 "metadata": {
  "kernelspec": {
   "display_name": "Python 3",
   "language": "python",
   "name": "python3"
  },
  "language_info": {
   "codemirror_mode": {
    "name": "ipython",
    "version": 3
   },
   "file_extension": ".py",
   "mimetype": "text/x-python",
   "name": "python",
   "nbconvert_exporter": "python",
   "pygments_lexer": "ipython3",
   "version": "3.6.1"
  }
 },
 "nbformat": 4,
 "nbformat_minor": 2
}
