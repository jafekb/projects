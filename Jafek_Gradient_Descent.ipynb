{
 "cells": [
  {
   "cell_type": "code",
   "execution_count": 1,
   "metadata": {
    "collapsed": true
   },
   "outputs": [],
   "source": [
    "from __future__ import division\n",
    "import numpy as np \n",
    "import cPickle\n",
    "from tqdm import tqdm\n",
    "from matplotlib import pyplot as plt "
   ]
  },
  {
   "cell_type": "markdown",
   "metadata": {},
   "source": [
    "# Get the CIFAR data"
   ]
  },
  {
   "cell_type": "code",
   "execution_count": 2,
   "metadata": {
    "collapsed": true
   },
   "outputs": [],
   "source": [
    "def load_cifar_data(N=1000, D=10):\n",
    "    def unpickle( file ):\n",
    "        fo = open(file, 'rb')\n",
    "        dict = cPickle.load(fo)\n",
    "        fo.close()\n",
    "        return dict\n",
    "\n",
    "    data = unpickle( 'cifar-10-batches-py/data_batch_1' )\n",
    "\n",
    "    features = data['data']\n",
    "    labels = data['labels']\n",
    "    labels = np.atleast_2d( labels ).T\n",
    "\n",
    "    # only keep N items\n",
    "    features = features[ 0:N, : ] \n",
    "    labels = labels[ 0:N, : ]\n",
    "\n",
    "    # project down into a D-dimensional space\n",
    "    features = np.dot( features, np.random.randn( 3072, D) )\n",
    "\n",
    "    # whiten our data - zero mean and unit standard deviation\n",
    "    features = (features - np.mean(features, axis=0)) / np.std(features, axis=0)\n",
    "\n",
    "    return features, labels"
   ]
  },
  {
   "cell_type": "markdown",
   "metadata": {},
   "source": [
    "# A 1-Layer Neural Network with Back Propagation"
   ]
  },
  {
   "cell_type": "code",
   "execution_count": 7,
   "metadata": {
    "collapsed": true
   },
   "outputs": [],
   "source": [
    "class GradientDescent(object):\n",
    "    def __init__(self, features, labels, num_epochs, step_size=0.1):\n",
    "        \"\"\"\n",
    "        A class which runs a 1-layer neural network on an input dataset, \n",
    "        and uses gradient descent to maximize the accuracy.\n",
    "        \"\"\"\n",
    "\n",
    "        self.features = features \n",
    "        self.labels = labels\n",
    "\n",
    "        m, n = np.shape(features)\n",
    "\n",
    "        self.W = 1e-3 * np.random.randn(n,n)\n",
    "\n",
    "        self.num_epochs = num_epochs\n",
    "\n",
    "        self.step_size = step_size\n",
    "\n",
    "    def softmax_loss_function(self): \n",
    "        \"\"\"\n",
    "        Algorithm:\n",
    "            1. exp-normalize trick: step1 = (exp(scores - max(scores, axis=0/1)) / sum(exp(scores - max(scores, axis=0/1)), axis=0/1))\n",
    "            2. all_loss_values = -log10(step1)\n",
    "            3. L_i = all_loss_values[true_labels]\n",
    "            4. final_loss = np.mean(L_i) #Don't take sum because it gets too big.\n",
    "        \"\"\"\n",
    "\n",
    "        scores = np.dot(self.W, self.features.T)\n",
    "        beta = np.max(scores, axis=0)\n",
    "        axis=0\n",
    "        step1 = np.exp(scores - beta) / np.sum(np.exp(scores - beta), axis=axis) #good. \n",
    "\n",
    "        all_loss_values = -np.log10(step1)\n",
    "        L_i = [i[self.labels[ind]] for ind, i in enumerate(all_loss_values.T)]\n",
    "\n",
    "        return np.mean(L_i)\n",
    "\n",
    "    def numerical_gradient(self, h=1e-06): \n",
    "        \"\"\"\n",
    "        Calculate the derivative numerically for each element of W, fill the gradient.\n",
    "\n",
    "        Return the gradient and the loss.\n",
    "        \"\"\"\n",
    "\n",
    "        #We need something to compare it to.\n",
    "        original_loss = self.softmax_loss_function()\n",
    "\n",
    "        #Initialize an empty gradient matrix, which we will fill.\n",
    "        gradient = np.zeros_like(self.W)\n",
    "\n",
    "        #We will fill up the gradient for each element of self.W\n",
    "        for row_num, row in enumerate(self.W):\n",
    "            for col_num, column in enumerate(row):\n",
    "                original_weight = self.W[row_num, col_num]\n",
    "                #Perturb W a little bit\n",
    "                self.W[row_num, col_num] += h\n",
    "\n",
    "                #Get the new loss\n",
    "                new_loss = self.softmax_loss_function()\n",
    "                #Put it in the gradient.\n",
    "                gradient[row_num, col_num] = (new_loss - original_loss) / h\n",
    "                #Put W back the way it was.\n",
    "                self.W[row_num, col_num] = original_weight\n",
    "\n",
    "\n",
    "        return gradient, original_loss\n",
    "\n",
    "    def update_accuracy(self):\n",
    "        \"\"\"\n",
    "        algorithm:\n",
    "            1. score = get_scores()\n",
    "            2. probabilities = get_probabilities(), which is the same as step1 from softmax_loss_function.\n",
    "            3. guesses = argmax(probabilities, axis=0)\n",
    "            4. accuracy = mean(guesses==labels)\n",
    "        \"\"\"\n",
    "        scores = np.dot(self.W, self.features.T)\n",
    "\n",
    "        guesses = np.argmax(scores, axis=0)\n",
    "        \n",
    "#         accuracy = (np.mean(np.atleast_2d(guesses) == np.atleast_2d(self.labels)))\n",
    "        \n",
    "        accuracy = np.sum(np.atleast_2d(guesses).T == self.labels) / self.labels.shape[0]\n",
    "        \n",
    "        return accuracy\n",
    "\n",
    "    def update_W(self, grad):\n",
    "        self.W = self.W - self.step_size*grad\n",
    "\n",
    "    def fit(self):\n",
    "        \"\"\"\n",
    "        Algorithm:\n",
    "            1. for i in epochs:\n",
    "                2. grad, loss = numerical_gradient\n",
    "                3. update_w\n",
    "                4. append to all_losses\n",
    "                5. apppend to all_accuracies\n",
    "\n",
    "            6. plot all_losses\n",
    "            7. plot all_accuracies\n",
    "        \"\"\"\n",
    "\n",
    "        all_losses, all_accuracies = [], []\n",
    "        for iternum in tqdm(xrange(self.num_epochs)):\n",
    "            grad, loss = self.numerical_gradient()\n",
    "            accuracy = self.update_accuracy()\n",
    "\n",
    "            all_losses.append(loss)\n",
    "            all_accuracies.append(accuracy*100)\n",
    "\n",
    "            self.update_W(grad)\n",
    "\n",
    "        #Now plot the accuracy and the loss.\n",
    "        plt.figure(figsize=(10,10))\n",
    "        plt.subplot(211)\n",
    "        plt.plot(all_accuracies, 'b')\n",
    "        plt.title('Accuracy')\n",
    "        plt.xlabel('Epoch Number')\n",
    "        plt.ylabel('Percent Accuracy (%)')\n",
    "\n",
    "        plt.subplot(212)\n",
    "        plt.plot(all_losses, 'r')\n",
    "        plt.title('Loss')\n",
    "        plt.xlabel('Epoch Number')\n",
    "        plt.ylabel('Loss')"
   ]
  },
  {
   "cell_type": "markdown",
   "metadata": {},
   "source": [
    "# Now run the Perceptron on the CIFAR-10 dataset"
   ]
  },
  {
   "cell_type": "code",
   "execution_count": 6,
   "metadata": {},
   "outputs": [
    {
     "name": "stderr",
     "output_type": "stream",
     "text": [
      "100%|██████████| 100/100 [00:19<00:00,  5.20it/s]\n"
     ]
    },
    {
     "data": {
      "image/png": "[encoded data removed]",
      "text/plain": [
       "<matplotlib.figure.Figure at 0x10981da10>"
      ]
     },
     "metadata": {},
     "output_type": "display_data"
    }
   ],
   "source": [
    "f, l = load_cifar_data()\n",
    "NUM_EPOCHS = 100\n",
    "\n",
    "G = GradientDescent(f, l, NUM_EPOCHS)\n",
    "\n",
    "G.fit()\n",
    "plt.show()"
   ]
  },
  {
   "cell_type": "code",
   "execution_count": null,
   "metadata": {
    "collapsed": true
   },
   "outputs": [],
   "source": []
  }
 ],
 "metadata": {
  "anaconda-cloud": {},
  "kernelspec": {
   "display_name": "Python [conda root]",
   "language": "python",
   "name": "conda-root-py"
  },
  "language_info": {
   "codemirror_mode": {
    "name": "ipython",
    "version": 2
   },
   "file_extension": ".py",
   "mimetype": "text/x-python",
   "name": "python",
   "nbconvert_exporter": "python",
   "pygments_lexer": "ipython2",
   "version": "2.7.13"
  }
 },
 "nbformat": 4,
 "nbformat_minor": 2
}
